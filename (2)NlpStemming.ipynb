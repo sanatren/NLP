{
  "nbformat": 4,
  "nbformat_minor": 0,
  "metadata": {
    "colab": {
      "provenance": []
    },
    "kernelspec": {
      "name": "python3",
      "display_name": "Python 3"
    },
    "language_info": {
      "name": "python"
    }
  },
  "cells": [
    {
      "cell_type": "code",
      "execution_count": null,
      "metadata": {
        "id": "TTrO9uw1fwTI"
      },
      "outputs": [],
      "source": [
        "corpus = [\n",
        "    \"running\", \"runs\", \"runner\", \"easily\", \"fairly\", \"happiness\",\n",
        "    \"sadness\", \"studies\", \"studying\", \"study\", \"studied\", \"better\",\n",
        "    \"best\", \"cats\", \"caring\", \"cared\", \"care\", \"cars\", \"driven\",\n",
        "    \"driving\", \"drive\", \"faster\", \"fastest\", \"organization\", \"organizes\",\n",
        "    \"organized\", \"organizing\", \"connect\", \"connected\", \"connecting\",\n",
        "    \"connection\", \"connections\", \"thinking\", \"thinks\", \"thought\"\n",
        "]"
      ]
    },
    {
      "cell_type": "code",
      "source": [
        "#porterStemmer\n",
        "from nltk.stem import PorterStemmer\n",
        "ps = PorterStemmer()\n",
        "for word in corpus:\n",
        "    print(word + \" -----> \" + ps.stem(word))"
      ],
      "metadata": {
        "colab": {
          "base_uri": "https://localhost:8080/"
        },
        "id": "rbRQsyVOf8-d",
        "outputId": "71fe1855-1218-469d-d722-0d7dfc457e87"
      },
      "execution_count": null,
      "outputs": [
        {
          "output_type": "stream",
          "name": "stdout",
          "text": [
            "running -----> run\n",
            "runs -----> run\n",
            "runner -----> runner\n",
            "easily -----> easili\n",
            "fairly -----> fairli\n",
            "happiness -----> happi\n",
            "sadness -----> sad\n",
            "studies -----> studi\n",
            "studying -----> studi\n",
            "study -----> studi\n",
            "studied -----> studi\n",
            "better -----> better\n",
            "best -----> best\n",
            "cats -----> cat\n",
            "caring -----> care\n",
            "cared -----> care\n",
            "care -----> care\n",
            "cars -----> car\n",
            "driven -----> driven\n",
            "driving -----> drive\n",
            "drive -----> drive\n",
            "faster -----> faster\n",
            "fastest -----> fastest\n",
            "organization -----> organ\n",
            "organizes -----> organ\n",
            "organized -----> organ\n",
            "organizing -----> organ\n",
            "connect -----> connect\n",
            "connected -----> connect\n",
            "connecting -----> connect\n",
            "connection -----> connect\n",
            "connections -----> connect\n",
            "thinking -----> think\n",
            "thinks -----> think\n",
            "thought -----> thought\n"
          ]
        }
      ]
    },
    {
      "cell_type": "markdown",
      "source": [
        "in the above all stem word got seprated out but some words does not make any meanings.\n",
        "So to solve that ,later we will use lemmatization."
      ],
      "metadata": {
        "id": "w6BHBUtwiqg0"
      }
    },
    {
      "cell_type": "code",
      "source": [
        "from nltk.stem import RegexpStemmer # custumly removes the given expressions to it from the words\n",
        "rs = RegexpStemmer(\"ing$|ed$|ly$\")\n",
        "for word in corpus:\n",
        "    print(word + \" -----> \" + rs.stem(word))"
      ],
      "metadata": {
        "colab": {
          "base_uri": "https://localhost:8080/"
        },
        "id": "IrwK41R0f9Aq",
        "outputId": "0b097f91-e62d-4469-ddc5-3dc65894f263"
      },
      "execution_count": null,
      "outputs": [
        {
          "output_type": "stream",
          "name": "stdout",
          "text": [
            "running -----> runn\n",
            "runs -----> runs\n",
            "runner -----> runner\n",
            "easily -----> easi\n",
            "fairly -----> fair\n",
            "happiness -----> happiness\n",
            "sadness -----> sadness\n",
            "studies -----> studies\n",
            "studying -----> study\n",
            "study -----> study\n",
            "studied -----> studi\n",
            "better -----> better\n",
            "best -----> best\n",
            "cats -----> cats\n",
            "caring -----> car\n",
            "cared -----> car\n",
            "care -----> care\n",
            "cars -----> cars\n",
            "driven -----> driven\n",
            "driving -----> driv\n",
            "drive -----> drive\n",
            "faster -----> faster\n",
            "fastest -----> fastest\n",
            "organization -----> organization\n",
            "organizes -----> organizes\n",
            "organized -----> organiz\n",
            "organizing -----> organiz\n",
            "connect -----> connect\n",
            "connected -----> connect\n",
            "connecting -----> connect\n",
            "connection -----> connection\n",
            "connections -----> connections\n",
            "thinking -----> think\n",
            "thinks -----> thinks\n",
            "thought -----> thought\n"
          ]
        }
      ]
    },
    {
      "cell_type": "code",
      "source": [
        "#Snowball Stemmer\n",
        "from nltk.stem import SnowballStemmer # in camparision to porterStemmer it is way better and supports multiple languages.\n",
        "ss = SnowballStemmer(language=\"english\")\n",
        "for word in corpus:\n",
        "  print(word + \"-----> \" + ss.stem(word))"
      ],
      "metadata": {
        "colab": {
          "base_uri": "https://localhost:8080/"
        },
        "id": "wmzG9N7-f9C8",
        "outputId": "2f07d642-3644-4a04-c4df-ecbe078fa35c"
      },
      "execution_count": null,
      "outputs": [
        {
          "output_type": "stream",
          "name": "stdout",
          "text": [
            "running-----> run\n",
            "runs-----> run\n",
            "runner-----> runner\n",
            "easily-----> easili\n",
            "fairly-----> fair\n",
            "happiness-----> happi\n",
            "sadness-----> sad\n",
            "studies-----> studi\n",
            "studying-----> studi\n",
            "study-----> studi\n",
            "studied-----> studi\n",
            "better-----> better\n",
            "best-----> best\n",
            "cats-----> cat\n",
            "caring-----> care\n",
            "cared-----> care\n",
            "care-----> care\n",
            "cars-----> car\n",
            "driven-----> driven\n",
            "driving-----> drive\n",
            "drive-----> drive\n",
            "faster-----> faster\n",
            "fastest-----> fastest\n",
            "organization-----> organ\n",
            "organizes-----> organ\n",
            "organized-----> organ\n",
            "organizing-----> organ\n",
            "connect-----> connect\n",
            "connected-----> connect\n",
            "connecting-----> connect\n",
            "connection-----> connect\n",
            "connections-----> connect\n",
            "thinking-----> think\n",
            "thinks-----> think\n",
            "thought-----> thought\n"
          ]
        }
      ]
    },
    {
      "cell_type": "code",
      "source": [],
      "metadata": {
        "id": "7VaTUP2Jf9Gh"
      },
      "execution_count": null,
      "outputs": []
    },
    {
      "cell_type": "code",
      "source": [],
      "metadata": {
        "id": "C8libQBLf9QA"
      },
      "execution_count": null,
      "outputs": []
    },
    {
      "cell_type": "code",
      "source": [],
      "metadata": {
        "id": "oc09Ovy4f9SO"
      },
      "execution_count": null,
      "outputs": []
    }
  ]
}